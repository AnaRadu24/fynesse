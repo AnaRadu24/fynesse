{
 "cells": [
  {
   "cell_type": "markdown",
   "id": "98bf38a3",
   "metadata": {},
   "source": [
    "# Python Fynesse Data Analysis Template\n",
    "\n",
    "### 31st May 2021\n",
    "\n",
    "### Neil D. Lawrence\n",
    "\n",
    "### Updated 31st October 2021\n",
    "\n",
    "This notebook serves as a stub for the fynesse data analysis pipeline.\n"
   ]
  },
  {
   "cell_type": "code",
   "execution_count": null,
   "id": "3d81c9b5",
   "metadata": {},
   "outputs": [],
   "source": [
    "%pip uninstall --yes fynesse\n",
    "# Replace this with the location of your fynesse implementation.\n",
    "%pip install git+https://github.com/lawrennd/fynesse_template.git\n"
   ]
  },
  {
   "cell_type": "code",
   "execution_count": null,
   "id": "3f2a9043",
   "metadata": {},
   "outputs": [],
   "source": [
    "import fynesse"
   ]
  },
  {
   "cell_type": "code",
   "execution_count": null,
   "id": "332048de",
   "metadata": {},
   "outputs": [],
   "source": [
    "fynesse.access.config['data_url']"
   ]
  },
  {
   "cell_type": "code",
   "execution_count": null,
   "id": "d30ff51b",
   "metadata": {},
   "outputs": [],
   "source": []
  }
 ],
 "metadata": {
  "interpreter": {
   "hash": "31f2aee4e71d21fbe5cf8b01ff0e069b9275f58929596ceb00d14d90e3e16cd6"
  },
  "kernelspec": {
   "display_name": "Python 3.8.9 64-bit",
   "name": "python3"
  },
  "language_info": {
   "codemirror_mode": {
    "name": "ipython",
    "version": 3
   },
   "file_extension": ".py",
   "mimetype": "text/x-python",
   "name": "python",
   "nbconvert_exporter": "python",
   "pygments_lexer": "ipython3",
   "version": "3.8.9"
  }
 },
 "nbformat": 4,
 "nbformat_minor": 5
}
